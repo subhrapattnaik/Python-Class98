{
  "nbformat": 4,
  "nbformat_minor": 0,
  "metadata": {
    "colab": {
      "name": "class98-Functions-File Handling.ipynb",
      "provenance": [],
      "collapsed_sections": []
    },
    "kernelspec": {
      "name": "python3",
      "display_name": "Python 3"
    },
    "language_info": {
      "name": "python"
    }
  },
  "cells": [
    {
      "cell_type": "code",
      "execution_count": 10,
      "metadata": {
        "id": "LsL2YNOMyIOE"
      },
      "outputs": [],
      "source": [
        "#Create a file called \"myfile.txt\":\n",
        "f = open(\"myfile1.txt\", \"x\")\n",
        "# a new empty file is created!\n"
      ]
    },
    {
      "cell_type": "code",
      "source": [
        "#Create a new file if it does not exist:\n",
        "\n",
        "f = open(\"my2ndfile.txt\", \"w\")\n",
        "f.write(\"Hello !! !\")\n",
        "f.close()"
      ],
      "metadata": {
        "id": "3PJudTAc0JHW"
      },
      "execution_count": 11,
      "outputs": []
    },
    {
      "cell_type": "code",
      "source": [
        "#\"a\" - Append - will append to the end of the file\n",
        "\n",
        "\n",
        "f = open(\"myfile.txt\", \"a\")\n",
        "f.write(\"Let's write the 1st line of content in our file!\")\n",
        "f.close()\n"
      ],
      "metadata": {
        "id": "8EONKPTJywUQ"
      },
      "execution_count": 6,
      "outputs": []
    },
    {
      "cell_type": "code",
      "source": [
        "#\"a\" - Append - will append to the end of the file\n",
        "f = open(\"myfile.txt\", \"a\")\n",
        "f.write(\"Let's write the 2nd line of content in our file!\")\n",
        "f.close()"
      ],
      "metadata": {
        "id": "po67oyn0zmy4"
      },
      "execution_count": 7,
      "outputs": []
    },
    {
      "cell_type": "code",
      "source": [
        "#\"w\" - Write - will overwrite any existing content\n",
        "f = open(\"myfile.txt\", \"w\")\n",
        "f.write(\"Let's overwrite the content in our file!\")\n",
        "f.close()\n"
      ],
      "metadata": {
        "id": "hS-gFW8_zK6V"
      },
      "execution_count": 8,
      "outputs": []
    },
    {
      "cell_type": "code",
      "source": [
        "#Remove the file \"myfile1.txt\":\n",
        "import os\n",
        "os.remove(\"myfile1.txt\")"
      ],
      "metadata": {
        "id": "pL1F1PTu0gyv"
      },
      "execution_count": 12,
      "outputs": []
    },
    {
      "cell_type": "code",
      "source": [
        "#Check if file exists, then delete it:\n",
        "import os\n",
        "if os.path.exists(\"myfile1.txt\"):\n",
        "  os.remove(\"myfile1.txt\")\n",
        "else:\n",
        "  print(\"The file does not exist\")"
      ],
      "metadata": {
        "colab": {
          "base_uri": "https://localhost:8080/"
        },
        "id": "PSCWEcEm0x4W",
        "outputId": "1f10df9f-0b6d-4159-c630-92a1ba5920ba"
      },
      "execution_count": 13,
      "outputs": [
        {
          "output_type": "stream",
          "name": "stdout",
          "text": [
            "The file does not exist\n"
          ]
        }
      ]
    },
    {
      "cell_type": "code",
      "source": [
        "#create folder\n",
        "import os\n",
        "os.mkdir(\"myfolder\")"
      ],
      "metadata": {
        "id": "yS9q1BYo1AES"
      },
      "execution_count": 14,
      "outputs": []
    },
    {
      "cell_type": "code",
      "source": [
        "#delete folder\n",
        "import os\n",
        "os.rmdir(\"myfolder\")"
      ],
      "metadata": {
        "id": "I3ox3kMB1JFO"
      },
      "execution_count": 15,
      "outputs": []
    },
    {
      "cell_type": "markdown",
      "source": [
        "The open() function takes two parameters; filename, and mode.\n",
        "\n",
        "There are four different methods (modes) for opening a file:\n",
        "\n",
        "\"r\" - Read - Default value. Opens a file for reading, error if the file does not exist\n",
        "\n",
        "\"a\" - Append - Opens a file for appending, creates the file if it does not exist\n",
        "\n",
        "\"w\" - Write - Opens a file for writing, creates the file if it does not exist\n",
        "\n",
        "\"x\" - Create - Creates the specified file, returns an error if the file exists"
      ],
      "metadata": {
        "id": "YKhIHy7-1fHm"
      }
    },
    {
      "cell_type": "markdown",
      "source": [
        "In addition you can specify if the file should be handled as binary or text mode\n",
        "\n",
        "\"t\" - Text - Default value. Text mode\n",
        "\n",
        "\"b\" - Binary - Binary mode (e.g. images)"
      ],
      "metadata": {
        "id": "JqFjMsSv1qMa"
      }
    },
    {
      "cell_type": "markdown",
      "source": [
        "To open a file for reading it is enough to specify the name of the file:\n",
        "\n",
        "f = open(\"demofile.txt\")"
      ],
      "metadata": {
        "id": "TPIBjmde1yw-"
      }
    },
    {
      "cell_type": "markdown",
      "source": [
        "f = open(\"demofile.txt\", \"rt\")\n",
        "\n",
        "\n",
        "Because \"r\" for read, and \"t\" for text are the default values, you do not need to specify them."
      ],
      "metadata": {
        "id": "YeUp5fEc17dt"
      }
    },
    {
      "cell_type": "code",
      "source": [
        "f = open(\"myfile.txt\", \"r\")\n",
        "print(f.read())"
      ],
      "metadata": {
        "colab": {
          "base_uri": "https://localhost:8080/"
        },
        "id": "Lkrtbe_q2M7T",
        "outputId": "cace4650-c43b-4c1a-f99b-0c90cced3e47"
      },
      "execution_count": 16,
      "outputs": [
        {
          "output_type": "stream",
          "name": "stdout",
          "text": [
            "Let's overwrite the content in our file!\n"
          ]
        }
      ]
    },
    {
      "cell_type": "markdown",
      "source": [
        "To open the file, use the built-in open() function.\n",
        "\n",
        "The open() function returns a file object, which has a read() method for reading the content of the file:"
      ],
      "metadata": {
        "id": "TOWRFgZk2Wm3"
      }
    },
    {
      "cell_type": "code",
      "source": [
        "#Read Only Parts of the File ex:only 5 characters\n",
        "f = open(\"myfile.txt\", \"r\")\n",
        "print(f.read(5))"
      ],
      "metadata": {
        "colab": {
          "base_uri": "https://localhost:8080/"
        },
        "id": "KTbzBo-_2jlE",
        "outputId": "4ab6e86b-3024-4949-c5d3-bc6480b4ed04"
      },
      "execution_count": 17,
      "outputs": [
        {
          "output_type": "stream",
          "name": "stdout",
          "text": [
            "Let's\n"
          ]
        }
      ]
    },
    {
      "cell_type": "code",
      "source": [
        "#You can return one line by using the readline() method:\n",
        "f = open(\"myfile.txt\", \"r\")\n",
        "print(f.readline())\n",
        "#By calling readline() two times, you can read the two first lines:"
      ],
      "metadata": {
        "colab": {
          "base_uri": "https://localhost:8080/"
        },
        "id": "77yGqli_20J6",
        "outputId": "e7ae7902-5d9d-4ff8-a904-3f2b8f3fa6c8"
      },
      "execution_count": 18,
      "outputs": [
        {
          "output_type": "stream",
          "name": "stdout",
          "text": [
            "Let's overwrite the content in our file!\n"
          ]
        }
      ]
    },
    {
      "cell_type": "code",
      "source": [
        "#By looping through the lines of the file, you can read the whole file, line by line:\n",
        "f = open(\"myfile.txt\", \"r\")\n",
        "for x in f:\n",
        "  print(x)"
      ],
      "metadata": {
        "colab": {
          "base_uri": "https://localhost:8080/"
        },
        "id": "Wh8Jjn7u3K1v",
        "outputId": "5be643d6-0736-41c8-b2e8-415fe3d2725d"
      },
      "execution_count": 19,
      "outputs": [
        {
          "output_type": "stream",
          "name": "stdout",
          "text": [
            "Let's overwrite the content in our file!\n",
            "\n",
            "he,welcome to file handleing\n",
            "\n",
            "I love python programming\n"
          ]
        }
      ]
    },
    {
      "cell_type": "code",
      "source": [
        "#Close the file when you are finish with it:\n",
        "\n",
        "f = open(\"myfile.txt\", \"r\")\n",
        "print(f.readline())\n",
        "f.close()"
      ],
      "metadata": {
        "colab": {
          "base_uri": "https://localhost:8080/"
        },
        "id": "Jr7q8RRw3eEm",
        "outputId": "c7a7ddd3-4e48-48c3-95b1-9ed27179fe51"
      },
      "execution_count": 22,
      "outputs": [
        {
          "output_type": "stream",
          "name": "stdout",
          "text": [
            "Let's overwrite the content in our file!\n",
            "\n"
          ]
        }
      ]
    },
    {
      "cell_type": "markdown",
      "source": [
        ""
      ],
      "metadata": {
        "id": "jrC4QEts1dC3"
      }
    }
  ]
}